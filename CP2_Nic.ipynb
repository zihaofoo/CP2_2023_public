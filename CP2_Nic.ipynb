{
 "cells": [
  {
   "cell_type": "markdown",
   "metadata": {
    "id": "j_pxx_MI75Wn"
   },
   "source": [
    "#2.155/6 Challenge Problem 2\n",
    "<font size=\"1\">\n",
    "  Created by L. Regenwetter in Oct. 2023;   Artwork by Jessica Shung. </font>"
   ]
  },
  {
   "cell_type": "code",
   "execution_count": 38,
   "metadata": {
    "colab": {
     "base_uri": "https://localhost:8080/"
    },
    "id": "vbUEoxo5zpy6",
    "outputId": "e2f29066-8176-40ec-acb5-8f08a41c11e0"
   },
   "outputs": [
    {
     "name": "stdout",
     "output_type": "stream",
     "text": [
      "[Errno 2] No such file or directory: 'CP2_2023_public/'\n",
      "/Users/zihaofoo/Documents/GitHub/CP2_2023_public\n"
     ]
    }
   ],
   "source": [
    "%cd CP2_2023_public/"
   ]
  },
  {
   "cell_type": "code",
   "execution_count": 1,
   "metadata": {
    "id": "u688eJWq0M5B"
   },
   "outputs": [
    {
     "ename": "ModuleNotFoundError",
     "evalue": "No module named 'PIL'",
     "output_type": "error",
     "traceback": [
      "\u001b[0;31m---------------------------------------------------------------------------\u001b[0m",
      "\u001b[0;31mModuleNotFoundError\u001b[0m                       Traceback (most recent call last)",
      "\u001b[1;32m/Users/zihaofoo/Documents/GitHub/CP2_2023_public/CP2_Nic.ipynb Cell 3\u001b[0m line \u001b[0;36m1\n\u001b[0;32m----> <a href='vscode-notebook-cell:/Users/zihaofoo/Documents/GitHub/CP2_2023_public/CP2_Nic.ipynb#W2sZmlsZQ%3D%3D?line=0'>1</a>\u001b[0m \u001b[39mfrom\u001b[39;00m \u001b[39mutils_public\u001b[39;00m \u001b[39mimport\u001b[39;00m \u001b[39m*\u001b[39m\n\u001b[1;32m      <a href='vscode-notebook-cell:/Users/zihaofoo/Documents/GitHub/CP2_2023_public/CP2_Nic.ipynb#W2sZmlsZQ%3D%3D?line=1'>2</a>\u001b[0m \u001b[39mimport\u001b[39;00m \u001b[39mnumpy\u001b[39;00m \u001b[39mas\u001b[39;00m \u001b[39mnp\u001b[39;00m\n\u001b[1;32m      <a href='vscode-notebook-cell:/Users/zihaofoo/Documents/GitHub/CP2_2023_public/CP2_Nic.ipynb#W2sZmlsZQ%3D%3D?line=2'>3</a>\u001b[0m \u001b[39mimport\u001b[39;00m \u001b[39mpandas\u001b[39;00m \u001b[39mas\u001b[39;00m \u001b[39mpd\u001b[39;00m\n",
      "File \u001b[0;32m~/Documents/GitHub/CP2_2023_public/utils_public.py:1\u001b[0m\n\u001b[0;32m----> 1\u001b[0m \u001b[39mimport\u001b[39;00m \u001b[39mPIL\u001b[39;00m\n\u001b[1;32m      2\u001b[0m \u001b[39mimport\u001b[39;00m \u001b[39mmatplotlib\u001b[39;00m\u001b[39m.\u001b[39;00m\u001b[39mpyplot\u001b[39;00m \u001b[39mas\u001b[39;00m \u001b[39mplt\u001b[39;00m\n\u001b[1;32m      3\u001b[0m \u001b[39mimport\u001b[39;00m \u001b[39mnumpy\u001b[39;00m \u001b[39mas\u001b[39;00m \u001b[39mnp\u001b[39;00m\n",
      "\u001b[0;31mModuleNotFoundError\u001b[0m: No module named 'PIL'"
     ]
    }
   ],
   "source": [
    "from utils_public import *\n",
    "import numpy as np\n",
    "import pandas as pd\n",
    "from scipy.stats import skew, kurtosis"
   ]
  },
  {
   "cell_type": "markdown",
   "metadata": {
    "id": "EAri4H710G2n"
   },
   "source": [
    "## Understanding City Zoning:\n",
    "Cities are often comprised of districts. Typically, the city government zones areas allowing them some amount of control over what goes on in each distict. To simplify, we will be represing city districts as discrete spaces in a 7x7 grid. Each grid space will be filled with exactly one of five types of zones. We will discuss the districts below:\n",
    "\n",
    "**Residential Zones [0]:** Residential zones are comprised primarily of housing and are where the workforce lives\n",
    "\n",
    "**Industrial Zones [1]:** Industrial zones are the manufacturing centers of the city, packed with factories producing food and goods.\n",
    "\n",
    "**Commercial Zones [2]:** Commercial zones are the retail hubs of the city, consisting of markets, stores, and restaurants.\n",
    "\n",
    "**Park Zones [3]:** City parks are the green spaces of the city -- small tastes of nature within an urban environment.\n",
    "\n",
    "**Office Zones [4]:** Office zones are the enterprise centers of global corporations and local businesses alike."
   ]
  },
  {
   "cell_type": "code",
   "execution_count": null,
   "metadata": {
    "colab": {
     "base_uri": "https://localhost:8080/",
     "height": 246
    },
    "id": "qD1pRnSMzqbV",
    "outputId": "17fc1a17-5575-4f4e-81b6-15a99921001a"
   },
   "outputs": [],
   "source": [
    "plot_districts()"
   ]
  },
  {
   "cell_type": "markdown",
   "metadata": {
    "id": "8rIK9Llf2Tn3"
   },
   "source": [
    "## The Data\n",
    "The mayor has provided you access to a large dataset of 500,000 possible zoning configurations. Additionally, the mayor asked the advisors to score some of these zoning configurations according to their subjective opinions of efficacy. Since the advisors are \"only human\" they have only been able to label ~5,000 configurations each. Some of their assessments may seem questionable to you, but they mayor insists that the advisors are \"experts\" and their ratings should not be questioned.\n",
    "\n",
    "Let's take a look at the data. First, lets have a look at the zoning layouts you are given."
   ]
  },
  {
   "cell_type": "code",
   "execution_count": 40,
   "metadata": {
    "colab": {
     "base_uri": "https://localhost:8080/"
    },
    "id": "aUEtw9-b0IPl",
    "outputId": "387e3f70-5010-4987-90b0-ff871b675e33"
   },
   "outputs": [
    {
     "data": {
      "text/plain": [
       "(500000, 7, 7)"
      ]
     },
     "execution_count": 40,
     "metadata": {},
     "output_type": "execute_result"
    }
   ],
   "source": [
    "grids = load_grids() #Helper function we have provided to load the grids from the dataset\n",
    "grids.shape #Check shape"
   ]
  },
  {
   "cell_type": "markdown",
   "metadata": {
    "id": "kkhmX3CL2WHD"
   },
   "source": [
    "Let's examine the first grid in the dataset. It consists of 7x7 entries, each ranging from 0 to 4. The entries denote the district occupying the grid space (labeled above)."
   ]
  },
  {
   "cell_type": "code",
   "execution_count": null,
   "metadata": {
    "colab": {
     "base_uri": "https://localhost:8080/"
    },
    "id": "CD6LYh--2VIQ",
    "outputId": "6245d930-1bee-436f-ed41-a1ae44c912fb"
   },
   "outputs": [],
   "source": [
    "grids[0]"
   ]
  },
  {
   "cell_type": "markdown",
   "metadata": {
    "id": "MaX6FiX02Z3J"
   },
   "source": [
    "Let's visualize some of these grids. We have provided some utilities, mainly fucused on visualization, which we imported at the top of the notebook."
   ]
  },
  {
   "cell_type": "code",
   "execution_count": null,
   "metadata": {
    "colab": {
     "base_uri": "https://localhost:8080/",
     "height": 1000
    },
    "id": "FCb834ZM2Yap",
    "outputId": "c01d2583-8a6c-4a0a-ad39-8dbb92f1ffdd"
   },
   "outputs": [],
   "source": [
    "plot_n_grids(grids[:10]) #Plotting function that plots some number of grids in a clean layout"
   ]
  },
  {
   "cell_type": "markdown",
   "metadata": {
    "id": "_V9KWEZX2mmT"
   },
   "source": [
    "Now lets have a look at the advisor scores:"
   ]
  },
  {
   "cell_type": "code",
   "execution_count": 41,
   "metadata": {
    "colab": {
     "base_uri": "https://localhost:8080/",
     "height": 424
    },
    "id": "qD0B9MiK2ZYJ",
    "outputId": "e8d0305b-c628-419a-ce21-16ae51ffc913"
   },
   "outputs": [
    {
     "data": {
      "text/html": [
       "<div>\n",
       "<style scoped>\n",
       "    .dataframe tbody tr th:only-of-type {\n",
       "        vertical-align: middle;\n",
       "    }\n",
       "\n",
       "    .dataframe tbody tr th {\n",
       "        vertical-align: top;\n",
       "    }\n",
       "\n",
       "    .dataframe thead th {\n",
       "        text-align: right;\n",
       "    }\n",
       "</style>\n",
       "<table border=\"1\" class=\"dataframe\">\n",
       "  <thead>\n",
       "    <tr style=\"text-align: right;\">\n",
       "      <th></th>\n",
       "      <th>Wellness</th>\n",
       "      <th>Tax</th>\n",
       "      <th>Transportation</th>\n",
       "      <th>Business</th>\n",
       "    </tr>\n",
       "  </thead>\n",
       "  <tbody>\n",
       "    <tr>\n",
       "      <th>0</th>\n",
       "      <td>NaN</td>\n",
       "      <td>NaN</td>\n",
       "      <td>NaN</td>\n",
       "      <td>NaN</td>\n",
       "    </tr>\n",
       "    <tr>\n",
       "      <th>1</th>\n",
       "      <td>NaN</td>\n",
       "      <td>NaN</td>\n",
       "      <td>NaN</td>\n",
       "      <td>NaN</td>\n",
       "    </tr>\n",
       "    <tr>\n",
       "      <th>2</th>\n",
       "      <td>NaN</td>\n",
       "      <td>NaN</td>\n",
       "      <td>NaN</td>\n",
       "      <td>NaN</td>\n",
       "    </tr>\n",
       "    <tr>\n",
       "      <th>3</th>\n",
       "      <td>NaN</td>\n",
       "      <td>NaN</td>\n",
       "      <td>NaN</td>\n",
       "      <td>NaN</td>\n",
       "    </tr>\n",
       "    <tr>\n",
       "      <th>4</th>\n",
       "      <td>NaN</td>\n",
       "      <td>NaN</td>\n",
       "      <td>NaN</td>\n",
       "      <td>NaN</td>\n",
       "    </tr>\n",
       "    <tr>\n",
       "      <th>...</th>\n",
       "      <td>...</td>\n",
       "      <td>...</td>\n",
       "      <td>...</td>\n",
       "      <td>...</td>\n",
       "    </tr>\n",
       "    <tr>\n",
       "      <th>499995</th>\n",
       "      <td>NaN</td>\n",
       "      <td>NaN</td>\n",
       "      <td>NaN</td>\n",
       "      <td>NaN</td>\n",
       "    </tr>\n",
       "    <tr>\n",
       "      <th>499996</th>\n",
       "      <td>NaN</td>\n",
       "      <td>NaN</td>\n",
       "      <td>NaN</td>\n",
       "      <td>NaN</td>\n",
       "    </tr>\n",
       "    <tr>\n",
       "      <th>499997</th>\n",
       "      <td>NaN</td>\n",
       "      <td>NaN</td>\n",
       "      <td>NaN</td>\n",
       "      <td>NaN</td>\n",
       "    </tr>\n",
       "    <tr>\n",
       "      <th>499998</th>\n",
       "      <td>NaN</td>\n",
       "      <td>NaN</td>\n",
       "      <td>NaN</td>\n",
       "      <td>NaN</td>\n",
       "    </tr>\n",
       "    <tr>\n",
       "      <th>499999</th>\n",
       "      <td>NaN</td>\n",
       "      <td>NaN</td>\n",
       "      <td>NaN</td>\n",
       "      <td>NaN</td>\n",
       "    </tr>\n",
       "  </tbody>\n",
       "</table>\n",
       "<p>500000 rows × 4 columns</p>\n",
       "</div>"
      ],
      "text/plain": [
       "        Wellness  Tax  Transportation  Business\n",
       "0            NaN  NaN             NaN       NaN\n",
       "1            NaN  NaN             NaN       NaN\n",
       "2            NaN  NaN             NaN       NaN\n",
       "3            NaN  NaN             NaN       NaN\n",
       "4            NaN  NaN             NaN       NaN\n",
       "...          ...  ...             ...       ...\n",
       "499995       NaN  NaN             NaN       NaN\n",
       "499996       NaN  NaN             NaN       NaN\n",
       "499997       NaN  NaN             NaN       NaN\n",
       "499998       NaN  NaN             NaN       NaN\n",
       "499999       NaN  NaN             NaN       NaN\n",
       "\n",
       "[500000 rows x 4 columns]"
      ]
     },
     "metadata": {},
     "output_type": "display_data"
    }
   ],
   "source": [
    "ratings = np.load(\"datasets/scores.npy\") #Load advisor scores\n",
    "score_order = [\"Wellness\", \"Tax\", \"Transportation\", \"Business\"] #This is the order of the scores in the dataset\n",
    "ratings_df = pd.DataFrame(ratings, columns = score_order) #Create a dataframe\n",
    "display(ratings_df) #Print dataframe"
   ]
  },
  {
   "cell_type": "markdown",
   "metadata": {
    "id": "ZOs8SeLN2rTN"
   },
   "source": [
    "We can see that the vast majority of ratings are NaN. After all, only 1% of the data is labeled. Let's confirm that there are the right number of NaNs in each column:"
   ]
  },
  {
   "cell_type": "code",
   "execution_count": null,
   "metadata": {
    "colab": {
     "base_uri": "https://localhost:8080/"
    },
    "id": "lSLXv9z52ewj",
    "outputId": "6c33902b-3933-40ec-9545-092a63565824"
   },
   "outputs": [],
   "source": [
    "ratings_df.isna().sum()"
   ]
  },
  {
   "cell_type": "markdown",
   "metadata": {
    "id": "TDEd5U8M2wD8"
   },
   "source": [
    "Let's plot the distribution over the scores that are rated. We see that each advisor's scores are fairly uniform from 0 to 1."
   ]
  },
  {
   "cell_type": "code",
   "execution_count": null,
   "metadata": {
    "colab": {
     "base_uri": "https://localhost:8080/",
     "height": 216
    },
    "id": "15yWmhYd2s53",
    "outputId": "7a254aad-90b0-4f60-c415-9232e65093dc"
   },
   "outputs": [],
   "source": [
    "plot_ratings_histogram(ratings)"
   ]
  },
  {
   "cell_type": "markdown",
   "metadata": {
    "id": "q0jmgbdb3HnJ"
   },
   "source": [
    "## The Task:\n",
    "**Satisfying the Advisors:**\n",
    "You are tasked with finding zoning layouts that \"satisfy\" all four advisors, meaning that they each assign a score of at least 0.85. If even one of the advisors rates a layout under a 0.85, it will be rejected as a candidate. You much identify designs from the dataset or generate new designs that *you believe* will be accepted by the advisors.\n",
    "\n",
    "**Identifying a diverse set:** The mayor has asked for a variety of \"diverse\" design candidates -- 100 city layouts to be exact -- which they will show to the advisors. The overall diversity of all valid (non-rejected) designs will be calculated. With this diversity metric, more designs is always better, so it is in your best interest to ensure that as few of your submitted designs are rejected as possible.\n",
    "\n",
    "We have provided the function we will use to evaluate diversity. Here are a few tests to build some intuition with the diversity score."
   ]
  },
  {
   "cell_type": "markdown",
   "metadata": {
    "id": "HDi4Lx1jeoS8"
   },
   "source": [
    "### Building Intuition for Diversity"
   ]
  },
  {
   "cell_type": "code",
   "execution_count": null,
   "metadata": {
    "colab": {
     "base_uri": "https://localhost:8080/"
    },
    "id": "sK8L3uzU3H6C",
    "outputId": "9a46c879-f919-44d2-a7f8-4dfa56ab97c8"
   },
   "outputs": [],
   "source": [
    "diversity_score(grids[:100]) #Diversity of the first 100 grids in the dataset"
   ]
  },
  {
   "cell_type": "code",
   "execution_count": null,
   "metadata": {},
   "outputs": [],
   "source": [
    "grids[:100].shape"
   ]
  },
  {
   "cell_type": "code",
   "execution_count": null,
   "metadata": {
    "colab": {
     "base_uri": "https://localhost:8080/"
    },
    "id": "Ojbc2cjH3JUY",
    "outputId": "94989b1c-b3e5-4366-b9ad-8962e433508b"
   },
   "outputs": [],
   "source": [
    "#If we set the top left corner to 0 in all grids, the diversity score should go down\n",
    "g_1 = grids.copy()\n",
    "g_1[:,0,0] = 0\n",
    "diversity_score(g_1[:100])"
   ]
  },
  {
   "cell_type": "code",
   "execution_count": null,
   "metadata": {},
   "outputs": [],
   "source": [
    "g_1[:,0,0].shape"
   ]
  },
  {
   "cell_type": "code",
   "execution_count": null,
   "metadata": {},
   "outputs": [],
   "source": [
    "g_1[:100].shape"
   ]
  },
  {
   "cell_type": "code",
   "execution_count": null,
   "metadata": {
    "colab": {
     "base_uri": "https://localhost:8080/"
    },
    "id": "uaMYaJWf3KNx",
    "outputId": "3ae75022-0ca4-4f86-9030-08a5fc46614b"
   },
   "outputs": [],
   "source": [
    "#If some grids are the same, the diversity score should go down\n",
    "g_2 = grids.copy()\n",
    "g_2[0] = g_2[1]\n",
    "diversity_score(g_2[:100])"
   ]
  },
  {
   "cell_type": "code",
   "execution_count": null,
   "metadata": {},
   "outputs": [],
   "source": [
    "grids_flat = onehot_and_flatten(grids)\n",
    "grids_flat.shape"
   ]
  },
  {
   "cell_type": "code",
   "execution_count": null,
   "metadata": {},
   "outputs": [],
   "source": [
    "u = np.unique(grids_flat, axis=0)"
   ]
  },
  {
   "cell_type": "code",
   "execution_count": null,
   "metadata": {
    "colab": {
     "base_uri": "https://localhost:8080/"
    },
    "id": "Ol9U1PMX3LDj",
    "outputId": "d319c073-5e1f-4b49-c9d8-376d68d4ddda",
    "scrolled": true
   },
   "outputs": [],
   "source": [
    "#If we submit fewer grids, the diversity score should go down (as will occur if invalid designs are submitted)\n",
    "diversity_score(g_2[:99]) #Diversity of the first 99 grids in the dataset"
   ]
  },
  {
   "cell_type": "code",
   "execution_count": null,
   "metadata": {
    "scrolled": true
   },
   "outputs": [],
   "source": [
    "happy = np.random.rand(5,7,7)\n",
    "print(happy)"
   ]
  },
  {
   "cell_type": "code",
   "execution_count": null,
   "metadata": {
    "scrolled": true
   },
   "outputs": [],
   "source": [
    "diverse_set = happy.argsort(0)\n",
    "diverse_set"
   ]
  },
  {
   "cell_type": "code",
   "execution_count": null,
   "metadata": {},
   "outputs": [],
   "source": [
    "diverse_set.shape"
   ]
  },
  {
   "cell_type": "code",
   "execution_count": null,
   "metadata": {
    "colab": {
     "base_uri": "https://localhost:8080/",
     "height": 925
    },
    "id": "PcMT9U_2BYUR",
    "outputId": "dd21b4ae-2236-49ec-8969-36e44101b967"
   },
   "outputs": [],
   "source": [
    "# A diverse set of five grids where no two cities have the same type of district in the same grid space\n",
    "diverse_set = np.random.rand(5,7,7).argsort(0)\n",
    "plot_n_grids(diverse_set)\n",
    "print(f\"Diversity Score: {diversity_score(diverse_set, 5)}\")\n"
   ]
  },
  {
   "cell_type": "code",
   "execution_count": null,
   "metadata": {
    "colab": {
     "base_uri": "https://localhost:8080/",
     "height": 925
    },
    "id": "BGVHJWgSEzMv",
    "outputId": "16500db1-b788-4ead-8cef-fe326eddefee"
   },
   "outputs": [],
   "source": [
    "#set of 5 grids where each district is independent and random with 20% probability for each district\n",
    "random_set = np.random.randint(0,5, size=(5,7,7))\n",
    "plot_n_grids(random_set)\n",
    "print(f\"Diversity Score: {diversity_score(random_set, 5)}\")"
   ]
  },
  {
   "cell_type": "code",
   "execution_count": null,
   "metadata": {
    "colab": {
     "base_uri": "https://localhost:8080/",
     "height": 925
    },
    "id": "oSo3-8RbFRwH",
    "outputId": "8efd2f15-d8a3-4cff-cb7d-c51ea5f1a85b",
    "scrolled": true
   },
   "outputs": [],
   "source": [
    "#Set of five grids where each grid space only takes one of two types across all cities\n",
    "r1 = np.random.randint(0,5,size=(7,7))\n",
    "r2 = np.random.randint(0,5,size=(7,7))\n",
    "mask = np.random.randint(0,2,size=(5,7,7))\n",
    "non_diverse_set = r1 * mask + r2 * (1-mask)\n",
    "plot_n_grids(non_diverse_set)\n",
    "print(f\"Diversity Score: {diversity_score(non_diverse_set, 5)}\")"
   ]
  },
  {
   "cell_type": "code",
   "execution_count": null,
   "metadata": {},
   "outputs": [],
   "source": [
    "non_diverse_set.shape"
   ]
  },
  {
   "cell_type": "markdown",
   "metadata": {
    "id": "bAHpnskD3NbM"
   },
   "source": [
    "Assuming that all designs in your submitted sets are valid, you will be able to *exactly calculate* the diversity of your submitted sets."
   ]
  },
  {
   "cell_type": "code",
   "execution_count": null,
   "metadata": {},
   "outputs": [],
   "source": [
    "grids = load_grids() #Helper function we have provided to load the grids from the dataset\n",
    "grids.shape #Check shape"
   ]
  },
  {
   "cell_type": "code",
   "execution_count": null,
   "metadata": {
    "scrolled": true
   },
   "outputs": [],
   "source": [
    "ratings = np.load(\"datasets/scores.npy\") #Load advisor scores\n",
    "score_order = [\"Wellness\", \"Tax\", \"Transportation\", \"Business\"] #This is the order of the scores in the dataset\n",
    "ratings_df = pd.DataFrame(ratings, columns = score_order) #Create a dataframe\n",
    "display(ratings_df) #Print dataframe"
   ]
  },
  {
   "cell_type": "code",
   "execution_count": 42,
   "metadata": {},
   "outputs": [],
   "source": [
    "grids_subset, ratings_subset = select_rated_subset(grids, ratings[:,0]) #gets subset of the dataset rated by advisor 0"
   ]
  },
  {
   "cell_type": "code",
   "execution_count": null,
   "metadata": {},
   "outputs": [],
   "source": [
    "# grids_subset, ratings_subset = select_rated_subset(grids, ratings[:,2]) #gets subset of the dataset rated by advisor 0\n",
    "# sorted_indices = np.argsort(ratings_subset)[2490:2510][::-1] \n",
    "# top_ten_grids = grids_subset[sorted_indices]\n",
    "# plot_n_grids(top_ten_grids)\n",
    "# ratings_subset[sorted_indices]"
   ]
  },
  {
   "cell_type": "code",
   "execution_count": 44,
   "metadata": {},
   "outputs": [],
   "source": [
    "def compute_distance_to_class(grid, target_class):\n",
    "    # Find the positions of the target class\n",
    "    positions_target_class = np.argwhere(grid == target_class)\n",
    "    \n",
    "    # Initialize a distance matrix with large values\n",
    "    distance_matrix = np.full(grid.shape, np.inf)\n",
    "    \n",
    "    for i in range(7):\n",
    "        for j in range(7):\n",
    "            for pos in positions_target_class:\n",
    "                distance = np.linalg.norm(np.array([i, j]) - pos)\n",
    "                distance_matrix[i, j] = min(distance_matrix[i, j], distance)\n",
    "    \n",
    "    return distance_matrix.flatten()"
   ]
  },
  {
   "cell_type": "code",
   "execution_count": 46,
   "metadata": {},
   "outputs": [],
   "source": [
    "def compute_max_min_distance(grid, class_type_1, class_type_2):\n",
    "    # Find the positions of the two class types\n",
    "    positions_type_1 = np.argwhere(grid == class_type_1)\n",
    "    positions_type_2 = np.argwhere(grid == class_type_2)\n",
    "\n",
    "    # If either class type is not found in the grid, return None for min and max distances\n",
    "    if len(positions_type_1) == 0 or len(positions_type_2) == 0:\n",
    "        return None, None\n",
    "\n",
    "    # Calculate all pairwise distances between the two sets of positions\n",
    "    distances = []\n",
    "    for pos1 in positions_type_1:\n",
    "        for pos2 in positions_type_2:\n",
    "            distance = np.linalg.norm(pos1 - pos2)\n",
    "            distances.append(distance)\n",
    "\n",
    "    # Return the minimum and maximum of the calculated distances\n",
    "    return [float(min(distances)), float(max(distances))]"
   ]
  },
  {
   "cell_type": "code",
   "execution_count": null,
   "metadata": {},
   "outputs": [],
   "source": [
    "grid_sample = np.random.randint(0, 5, (7, 7))\n",
    "grid_sample"
   ]
  },
  {
   "cell_type": "code",
   "execution_count": 47,
   "metadata": {},
   "outputs": [
    {
     "data": {
      "text/plain": [
       "[1.0, 7.810249675906654]"
      ]
     },
     "execution_count": 47,
     "metadata": {},
     "output_type": "execute_result"
    }
   ],
   "source": [
    "compute_max_min_distance(grid_sample, 1, 2)"
   ]
  },
  {
   "cell_type": "code",
   "execution_count": 48,
   "metadata": {},
   "outputs": [],
   "source": [
    "def count_connected_for_class(grid, target_class):\n",
    "    height, width = grid.shape\n",
    "    count = 0\n",
    "\n",
    "    for i in range(height):\n",
    "        for j in range(width):\n",
    "            if grid[i][j] == target_class:\n",
    "                # Check bottom neighbor\n",
    "                if i + 1 < height and grid[i+1][j] == target_class:\n",
    "                    count += 1\n",
    "\n",
    "                # Check right neighbor\n",
    "                if j + 1 < width and grid[i][j+1] == target_class:\n",
    "                    count += 1\n",
    "\n",
    "    return count"
   ]
  },
  {
   "cell_type": "code",
   "execution_count": 49,
   "metadata": {},
   "outputs": [],
   "source": [
    "def compute_features(grid, advisor):\n",
    "\n",
    "    features = []\n",
    "    grid = grid.astype(int)\n",
    "    # Number of each type\n",
    "    counts = np.bincount(grid.flatten(), minlength=5)\n",
    "    features.extend(counts)\n",
    "    \n",
    "    inter_adjacency = np.zeros((5, 5), dtype=int)\n",
    "    \n",
    "    for i in range(7):\n",
    "        for j in range(7):\n",
    "            current_val = grid[i, j]\n",
    "            for dx, dy in [(1, 0), (0, 1), (-1, 0), (0, -1)]:\n",
    "                if 0 <= i+dx < 7 and 0 <= j+dy < 7:\n",
    "                    neighbor_val = grid[i+dx, j+dy]\n",
    "                    # Only update the upper diagonal (including main diagonal)\n",
    "                    if current_val <= neighbor_val:\n",
    "                        inter_adjacency[current_val, neighbor_val] += 1\n",
    "                    \n",
    "    features.extend(inter_adjacency[np.triu_indices(5, k=0)])\n",
    "\n",
    "        # Create a dictionary to store distances for each unique class pair\n",
    "    distances = {(i, j): [] for i in range(5) for j in range(i, 5)}\n",
    "\n",
    "    # Compute distances for each pair of cells\n",
    "    for i in range(7):\n",
    "        for j in range(7):\n",
    "            for m in range(7):\n",
    "                for n in range(7):\n",
    "                    d = np.sqrt((i - m) ** 2 + (j - n) ** 2)\n",
    "                    class_pair = tuple(sorted([grid[i, j], grid[m, n]]))\n",
    "                    distances[class_pair].append(d)\n",
    "\n",
    "    # Compute statistics for each class pair and store in a flattened list\n",
    "    flattened_stats = []\n",
    "    # for key, values in distances.items():\n",
    "    #     mean_val = np.mean(values)\n",
    "    #     var_val = np.var(values)\n",
    "    #     # skew_val = skew(values)\n",
    "    #     # kurt_val = kurtosis(values)\n",
    "    #     # flattened_stats.extend([mean_val, var_val, skew_val, kurt_val])        \n",
    "    #     flattened_stats.extend([mean_val, var_val])\n",
    "    # features.extend(flattened_stats)\n",
    "\n",
    "    for key, values in distances.items():\n",
    "        if values:  # Check if the list is not empty\n",
    "            try:\n",
    "                mean_val = np.mean(values)\n",
    "                var_val = np.var(values)\n",
    "            except:\n",
    "                mean_val = 0  # or any default value\n",
    "                var_val = 0  # or any default value\n",
    "            flattened_stats.extend([mean_val, var_val])\n",
    "        else:  # Handle the case where the list is empty\n",
    "            flattened_stats.extend([0, 0])  # or any default value\n",
    "    \n",
    "    if advisor == 0:\n",
    "        \" Wellness advisor is focused on the health and wellbeing (both physical and mental) of citizens\"\n",
    "        \" They are very invested in the quality and accessibility of city's green spaces.\"\n",
    "        # Distance of park zones from each grid element\n",
    "        distance_matrix = compute_distance_to_class(grid, target_class = 3)\n",
    "        features.extend(distance_matrix)\n",
    "        # Number of connected parks\n",
    "        connections = count_connected_for_class(grid, target_class= 3)\n",
    "        features.extend([connections])\n",
    "        \n",
    "    if advisor == 2:\n",
    "        \" Transportation advisor places an emphasis on accessibility and emissions. \"\n",
    "        \" They are focused on mimizing the distance over which the workforce needs to commute.\"\n",
    "        for cls in [0, 1, 2, 4]:\n",
    "                   \n",
    "            # obtains the minimum and max distance between residential areas and three others\n",
    "            # max_min = compute_max_min_distance(grid, class_type_1 = 0, class_type_2 = cls)\n",
    "            # features.extend(max_min)\n",
    "            # obtains distance to nearest residential\n",
    "            distance_matrix = compute_distance_to_class(grid, target_class = cls)\n",
    "            features.extend(distance_matrix)\n",
    "\n",
    "            # could possibly add proximity of houses at the centre\n",
    "            # find whether the orientation matters\n",
    "            \n",
    "\n",
    "    return features"
   ]
  },
  {
   "cell_type": "code",
   "execution_count": 55,
   "metadata": {},
   "outputs": [
    {
     "name": "stderr",
     "output_type": "stream",
     "text": [
      "Process SpawnPoolWorker-42:\n",
      "Traceback (most recent call last):\n",
      "  File \"/Users/zihaofoo/opt/anaconda3/lib/python3.8/multiprocessing/process.py\", line 315, in _bootstrap\n",
      "    self.run()\n",
      "  File \"/Users/zihaofoo/opt/anaconda3/lib/python3.8/multiprocessing/process.py\", line 108, in run\n",
      "    self._target(*self._args, **self._kwargs)\n",
      "  File \"/Users/zihaofoo/opt/anaconda3/lib/python3.8/multiprocessing/pool.py\", line 114, in worker\n",
      "    task = get()\n",
      "  File \"/Users/zihaofoo/opt/anaconda3/lib/python3.8/multiprocessing/queues.py\", line 358, in get\n",
      "    return _ForkingPickler.loads(res)\n",
      "AttributeError: Can't get attribute 'compute_features' on <module '__main__' (built-in)>\n",
      "Process SpawnPoolWorker-41:\n",
      "Traceback (most recent call last):\n",
      "  File \"/Users/zihaofoo/opt/anaconda3/lib/python3.8/multiprocessing/process.py\", line 315, in _bootstrap\n",
      "    self.run()\n",
      "  File \"/Users/zihaofoo/opt/anaconda3/lib/python3.8/multiprocessing/process.py\", line 108, in run\n",
      "    self._target(*self._args, **self._kwargs)\n",
      "  File \"/Users/zihaofoo/opt/anaconda3/lib/python3.8/multiprocessing/pool.py\", line 114, in worker\n",
      "    task = get()\n",
      "  File \"/Users/zihaofoo/opt/anaconda3/lib/python3.8/multiprocessing/queues.py\", line 358, in get\n",
      "    return _ForkingPickler.loads(res)\n",
      "AttributeError: Can't get attribute 'compute_features' on <module '__main__' (built-in)>\n",
      "Process SpawnPoolWorker-44:\n",
      "Traceback (most recent call last):\n",
      "  File \"/Users/zihaofoo/opt/anaconda3/lib/python3.8/multiprocessing/process.py\", line 315, in _bootstrap\n",
      "    self.run()\n",
      "  File \"/Users/zihaofoo/opt/anaconda3/lib/python3.8/multiprocessing/process.py\", line 108, in run\n",
      "    self._target(*self._args, **self._kwargs)\n",
      "  File \"/Users/zihaofoo/opt/anaconda3/lib/python3.8/multiprocessing/pool.py\", line 114, in worker\n",
      "    task = get()\n",
      "  File \"/Users/zihaofoo/opt/anaconda3/lib/python3.8/multiprocessing/queues.py\", line 358, in get\n",
      "    return _ForkingPickler.loads(res)\n",
      "AttributeError: Can't get attribute 'compute_features' on <module '__main__' (built-in)>\n",
      "Process SpawnPoolWorker-43:\n",
      "Traceback (most recent call last):\n",
      "  File \"/Users/zihaofoo/opt/anaconda3/lib/python3.8/multiprocessing/process.py\", line 315, in _bootstrap\n",
      "    self.run()\n",
      "  File \"/Users/zihaofoo/opt/anaconda3/lib/python3.8/multiprocessing/process.py\", line 108, in run\n",
      "    self._target(*self._args, **self._kwargs)\n",
      "  File \"/Users/zihaofoo/opt/anaconda3/lib/python3.8/multiprocessing/pool.py\", line 114, in worker\n",
      "    task = get()\n",
      "  File \"/Users/zihaofoo/opt/anaconda3/lib/python3.8/multiprocessing/queues.py\", line 358, in get\n",
      "    return _ForkingPickler.loads(res)\n",
      "AttributeError: Can't get attribute 'compute_features' on <module '__main__' (built-in)>\n",
      "Process SpawnPoolWorker-47:\n",
      "Traceback (most recent call last):\n",
      "  File \"/Users/zihaofoo/opt/anaconda3/lib/python3.8/multiprocessing/process.py\", line 315, in _bootstrap\n",
      "    self.run()\n",
      "  File \"/Users/zihaofoo/opt/anaconda3/lib/python3.8/multiprocessing/process.py\", line 108, in run\n",
      "    self._target(*self._args, **self._kwargs)\n",
      "  File \"/Users/zihaofoo/opt/anaconda3/lib/python3.8/multiprocessing/pool.py\", line 114, in worker\n",
      "    task = get()\n",
      "  File \"/Users/zihaofoo/opt/anaconda3/lib/python3.8/multiprocessing/queues.py\", line 358, in get\n",
      "    return _ForkingPickler.loads(res)\n",
      "AttributeError: Can't get attribute 'compute_features' on <module '__main__' (built-in)>\n",
      "Process SpawnPoolWorker-48:\n",
      "Traceback (most recent call last):\n",
      "  File \"/Users/zihaofoo/opt/anaconda3/lib/python3.8/multiprocessing/process.py\", line 315, in _bootstrap\n",
      "    self.run()\n",
      "  File \"/Users/zihaofoo/opt/anaconda3/lib/python3.8/multiprocessing/process.py\", line 108, in run\n",
      "    self._target(*self._args, **self._kwargs)\n",
      "  File \"/Users/zihaofoo/opt/anaconda3/lib/python3.8/multiprocessing/pool.py\", line 114, in worker\n",
      "    task = get()\n",
      "  File \"/Users/zihaofoo/opt/anaconda3/lib/python3.8/multiprocessing/queues.py\", line 358, in get\n",
      "    return _ForkingPickler.loads(res)\n",
      "AttributeError: Can't get attribute 'compute_features' on <module '__main__' (built-in)>\n",
      "Process SpawnPoolWorker-46:\n",
      "Traceback (most recent call last):\n",
      "  File \"/Users/zihaofoo/opt/anaconda3/lib/python3.8/multiprocessing/process.py\", line 315, in _bootstrap\n",
      "    self.run()\n",
      "  File \"/Users/zihaofoo/opt/anaconda3/lib/python3.8/multiprocessing/process.py\", line 108, in run\n",
      "    self._target(*self._args, **self._kwargs)\n",
      "  File \"/Users/zihaofoo/opt/anaconda3/lib/python3.8/multiprocessing/pool.py\", line 114, in worker\n",
      "    task = get()\n",
      "  File \"/Users/zihaofoo/opt/anaconda3/lib/python3.8/multiprocessing/queues.py\", line 358, in get\n",
      "    return _ForkingPickler.loads(res)\n",
      "AttributeError: Can't get attribute 'compute_features' on <module '__main__' (built-in)>\n",
      "Process SpawnPoolWorker-45:\n",
      "Traceback (most recent call last):\n",
      "  File \"/Users/zihaofoo/opt/anaconda3/lib/python3.8/multiprocessing/process.py\", line 315, in _bootstrap\n",
      "    self.run()\n",
      "  File \"/Users/zihaofoo/opt/anaconda3/lib/python3.8/multiprocessing/process.py\", line 108, in run\n",
      "    self._target(*self._args, **self._kwargs)\n",
      "  File \"/Users/zihaofoo/opt/anaconda3/lib/python3.8/multiprocessing/pool.py\", line 114, in worker\n",
      "    task = get()\n",
      "  File \"/Users/zihaofoo/opt/anaconda3/lib/python3.8/multiprocessing/queues.py\", line 358, in get\n",
      "    return _ForkingPickler.loads(res)\n",
      "AttributeError: Can't get attribute 'compute_features' on <module '__main__' (built-in)>\n",
      "Process SpawnPoolWorker-49:\n",
      "Traceback (most recent call last):\n",
      "  File \"/Users/zihaofoo/opt/anaconda3/lib/python3.8/multiprocessing/process.py\", line 315, in _bootstrap\n",
      "    self.run()\n",
      "  File \"/Users/zihaofoo/opt/anaconda3/lib/python3.8/multiprocessing/process.py\", line 108, in run\n",
      "    self._target(*self._args, **self._kwargs)\n",
      "  File \"/Users/zihaofoo/opt/anaconda3/lib/python3.8/multiprocessing/pool.py\", line 114, in worker\n",
      "    task = get()\n",
      "  File \"/Users/zihaofoo/opt/anaconda3/lib/python3.8/multiprocessing/queues.py\", line 358, in get\n",
      "    return _ForkingPickler.loads(res)\n",
      "AttributeError: Can't get attribute 'compute_features' on <module '__main__' (built-in)>\n",
      "Process SpawnPoolWorker-50:\n",
      "Traceback (most recent call last):\n",
      "  File \"/Users/zihaofoo/opt/anaconda3/lib/python3.8/multiprocessing/process.py\", line 315, in _bootstrap\n",
      "    self.run()\n",
      "  File \"/Users/zihaofoo/opt/anaconda3/lib/python3.8/multiprocessing/process.py\", line 108, in run\n",
      "    self._target(*self._args, **self._kwargs)\n",
      "  File \"/Users/zihaofoo/opt/anaconda3/lib/python3.8/multiprocessing/pool.py\", line 114, in worker\n",
      "    task = get()\n",
      "  File \"/Users/zihaofoo/opt/anaconda3/lib/python3.8/multiprocessing/queues.py\", line 358, in get\n",
      "    return _ForkingPickler.loads(res)\n",
      "AttributeError: Can't get attribute 'compute_features' on <module '__main__' (built-in)>\n",
      "Process SpawnPoolWorker-55:\n",
      "Traceback (most recent call last):\n",
      "  File \"/Users/zihaofoo/opt/anaconda3/lib/python3.8/multiprocessing/process.py\", line 315, in _bootstrap\n",
      "    self.run()\n",
      "  File \"/Users/zihaofoo/opt/anaconda3/lib/python3.8/multiprocessing/process.py\", line 108, in run\n",
      "    self._target(*self._args, **self._kwargs)\n",
      "  File \"/Users/zihaofoo/opt/anaconda3/lib/python3.8/multiprocessing/pool.py\", line 114, in worker\n",
      "    task = get()\n",
      "  File \"/Users/zihaofoo/opt/anaconda3/lib/python3.8/multiprocessing/queues.py\", line 358, in get\n",
      "    return _ForkingPickler.loads(res)\n",
      "AttributeError: Can't get attribute 'compute_features' on <module '__main__' (built-in)>\n",
      "Process SpawnPoolWorker-52:\n",
      "Traceback (most recent call last):\n",
      "  File \"/Users/zihaofoo/opt/anaconda3/lib/python3.8/multiprocessing/process.py\", line 315, in _bootstrap\n",
      "    self.run()\n",
      "  File \"/Users/zihaofoo/opt/anaconda3/lib/python3.8/multiprocessing/process.py\", line 108, in run\n",
      "    self._target(*self._args, **self._kwargs)\n",
      "  File \"/Users/zihaofoo/opt/anaconda3/lib/python3.8/multiprocessing/pool.py\", line 114, in worker\n",
      "    task = get()\n",
      "  File \"/Users/zihaofoo/opt/anaconda3/lib/python3.8/multiprocessing/queues.py\", line 358, in get\n",
      "    return _ForkingPickler.loads(res)\n",
      "AttributeError: Can't get attribute 'compute_features' on <module '__main__' (built-in)>\n",
      "Process SpawnPoolWorker-51:\n",
      "Traceback (most recent call last):\n",
      "  File \"/Users/zihaofoo/opt/anaconda3/lib/python3.8/multiprocessing/process.py\", line 315, in _bootstrap\n",
      "    self.run()\n",
      "  File \"/Users/zihaofoo/opt/anaconda3/lib/python3.8/multiprocessing/process.py\", line 108, in run\n",
      "    self._target(*self._args, **self._kwargs)\n",
      "  File \"/Users/zihaofoo/opt/anaconda3/lib/python3.8/multiprocessing/pool.py\", line 114, in worker\n",
      "    task = get()\n",
      "  File \"/Users/zihaofoo/opt/anaconda3/lib/python3.8/multiprocessing/queues.py\", line 358, in get\n",
      "    return _ForkingPickler.loads(res)\n",
      "AttributeError: Can't get attribute 'compute_features' on <module '__main__' (built-in)>\n",
      "Process SpawnPoolWorker-54:\n",
      "Traceback (most recent call last):\n",
      "  File \"/Users/zihaofoo/opt/anaconda3/lib/python3.8/multiprocessing/process.py\", line 315, in _bootstrap\n",
      "    self.run()\n",
      "  File \"/Users/zihaofoo/opt/anaconda3/lib/python3.8/multiprocessing/process.py\", line 108, in run\n",
      "    self._target(*self._args, **self._kwargs)\n",
      "  File \"/Users/zihaofoo/opt/anaconda3/lib/python3.8/multiprocessing/pool.py\", line 114, in worker\n",
      "    task = get()\n",
      "  File \"/Users/zihaofoo/opt/anaconda3/lib/python3.8/multiprocessing/queues.py\", line 358, in get\n",
      "    return _ForkingPickler.loads(res)\n",
      "AttributeError: Can't get attribute 'compute_features' on <module '__main__' (built-in)>\n",
      "Process SpawnPoolWorker-53:\n",
      "Traceback (most recent call last):\n",
      "  File \"/Users/zihaofoo/opt/anaconda3/lib/python3.8/multiprocessing/process.py\", line 315, in _bootstrap\n",
      "    self.run()\n",
      "  File \"/Users/zihaofoo/opt/anaconda3/lib/python3.8/multiprocessing/process.py\", line 108, in run\n",
      "    self._target(*self._args, **self._kwargs)\n",
      "  File \"/Users/zihaofoo/opt/anaconda3/lib/python3.8/multiprocessing/pool.py\", line 114, in worker\n",
      "    task = get()\n",
      "  File \"/Users/zihaofoo/opt/anaconda3/lib/python3.8/multiprocessing/queues.py\", line 358, in get\n",
      "    return _ForkingPickler.loads(res)\n",
      "AttributeError: Can't get attribute 'compute_features' on <module '__main__' (built-in)>\n",
      "Process SpawnPoolWorker-57:\n",
      "Traceback (most recent call last):\n",
      "  File \"/Users/zihaofoo/opt/anaconda3/lib/python3.8/multiprocessing/process.py\", line 315, in _bootstrap\n",
      "    self.run()\n",
      "  File \"/Users/zihaofoo/opt/anaconda3/lib/python3.8/multiprocessing/process.py\", line 108, in run\n",
      "    self._target(*self._args, **self._kwargs)\n",
      "  File \"/Users/zihaofoo/opt/anaconda3/lib/python3.8/multiprocessing/pool.py\", line 114, in worker\n",
      "    task = get()\n",
      "  File \"/Users/zihaofoo/opt/anaconda3/lib/python3.8/multiprocessing/queues.py\", line 358, in get\n",
      "    return _ForkingPickler.loads(res)\n",
      "AttributeError: Can't get attribute 'compute_features' on <module '__main__' (built-in)>\n",
      "Process SpawnPoolWorker-58:\n",
      "Traceback (most recent call last):\n",
      "  File \"/Users/zihaofoo/opt/anaconda3/lib/python3.8/multiprocessing/process.py\", line 315, in _bootstrap\n",
      "    self.run()\n",
      "  File \"/Users/zihaofoo/opt/anaconda3/lib/python3.8/multiprocessing/process.py\", line 108, in run\n",
      "    self._target(*self._args, **self._kwargs)\n",
      "  File \"/Users/zihaofoo/opt/anaconda3/lib/python3.8/multiprocessing/pool.py\", line 114, in worker\n",
      "    task = get()\n",
      "  File \"/Users/zihaofoo/opt/anaconda3/lib/python3.8/multiprocessing/queues.py\", line 358, in get\n",
      "    return _ForkingPickler.loads(res)\n",
      "AttributeError: Can't get attribute 'compute_features' on <module '__main__' (built-in)>\n",
      "Process SpawnPoolWorker-59:\n",
      "Process SpawnPoolWorker-56:\n",
      "Traceback (most recent call last):\n",
      "  File \"/Users/zihaofoo/opt/anaconda3/lib/python3.8/multiprocessing/process.py\", line 315, in _bootstrap\n",
      "    self.run()\n",
      "  File \"/Users/zihaofoo/opt/anaconda3/lib/python3.8/multiprocessing/process.py\", line 108, in run\n",
      "    self._target(*self._args, **self._kwargs)\n",
      "  File \"/Users/zihaofoo/opt/anaconda3/lib/python3.8/multiprocessing/pool.py\", line 114, in worker\n",
      "    task = get()\n",
      "  File \"/Users/zihaofoo/opt/anaconda3/lib/python3.8/multiprocessing/queues.py\", line 358, in get\n",
      "    return _ForkingPickler.loads(res)\n",
      "AttributeError: Can't get attribute 'compute_features' on <module '__main__' (built-in)>\n",
      "Traceback (most recent call last):\n",
      "  File \"/Users/zihaofoo/opt/anaconda3/lib/python3.8/multiprocessing/process.py\", line 315, in _bootstrap\n",
      "    self.run()\n",
      "  File \"/Users/zihaofoo/opt/anaconda3/lib/python3.8/multiprocessing/process.py\", line 108, in run\n",
      "    self._target(*self._args, **self._kwargs)\n",
      "  File \"/Users/zihaofoo/opt/anaconda3/lib/python3.8/multiprocessing/pool.py\", line 114, in worker\n",
      "    task = get()\n",
      "  File \"/Users/zihaofoo/opt/anaconda3/lib/python3.8/multiprocessing/queues.py\", line 358, in get\n",
      "    return _ForkingPickler.loads(res)\n",
      "AttributeError: Can't get attribute 'compute_features' on <module '__main__' (built-in)>\n",
      "Process SpawnPoolWorker-60:\n",
      "Traceback (most recent call last):\n",
      "  File \"/Users/zihaofoo/opt/anaconda3/lib/python3.8/multiprocessing/process.py\", line 315, in _bootstrap\n",
      "    self.run()\n",
      "  File \"/Users/zihaofoo/opt/anaconda3/lib/python3.8/multiprocessing/process.py\", line 108, in run\n",
      "    self._target(*self._args, **self._kwargs)\n",
      "  File \"/Users/zihaofoo/opt/anaconda3/lib/python3.8/multiprocessing/pool.py\", line 114, in worker\n",
      "    task = get()\n",
      "  File \"/Users/zihaofoo/opt/anaconda3/lib/python3.8/multiprocessing/queues.py\", line 358, in get\n",
      "    return _ForkingPickler.loads(res)\n",
      "AttributeError: Can't get attribute 'compute_features' on <module '__main__' (built-in)>\n",
      "Process SpawnPoolWorker-62:\n",
      "Traceback (most recent call last):\n",
      "  File \"/Users/zihaofoo/opt/anaconda3/lib/python3.8/multiprocessing/process.py\", line 315, in _bootstrap\n",
      "    self.run()\n",
      "  File \"/Users/zihaofoo/opt/anaconda3/lib/python3.8/multiprocessing/process.py\", line 108, in run\n",
      "    self._target(*self._args, **self._kwargs)\n",
      "  File \"/Users/zihaofoo/opt/anaconda3/lib/python3.8/multiprocessing/pool.py\", line 114, in worker\n",
      "    task = get()\n",
      "  File \"/Users/zihaofoo/opt/anaconda3/lib/python3.8/multiprocessing/queues.py\", line 358, in get\n",
      "    return _ForkingPickler.loads(res)\n",
      "AttributeError: Can't get attribute 'compute_features' on <module '__main__' (built-in)>\n",
      "Process SpawnPoolWorker-61:\n",
      "Traceback (most recent call last):\n",
      "  File \"/Users/zihaofoo/opt/anaconda3/lib/python3.8/multiprocessing/process.py\", line 315, in _bootstrap\n",
      "    self.run()\n",
      "  File \"/Users/zihaofoo/opt/anaconda3/lib/python3.8/multiprocessing/process.py\", line 108, in run\n",
      "    self._target(*self._args, **self._kwargs)\n",
      "  File \"/Users/zihaofoo/opt/anaconda3/lib/python3.8/multiprocessing/pool.py\", line 114, in worker\n",
      "    task = get()\n",
      "  File \"/Users/zihaofoo/opt/anaconda3/lib/python3.8/multiprocessing/queues.py\", line 358, in get\n",
      "    return _ForkingPickler.loads(res)\n",
      "AttributeError: Can't get attribute 'compute_features' on <module '__main__' (built-in)>\n",
      "Process SpawnPoolWorker-63:\n",
      "Traceback (most recent call last):\n",
      "  File \"/Users/zihaofoo/opt/anaconda3/lib/python3.8/multiprocessing/process.py\", line 315, in _bootstrap\n",
      "    self.run()\n",
      "  File \"/Users/zihaofoo/opt/anaconda3/lib/python3.8/multiprocessing/process.py\", line 108, in run\n",
      "    self._target(*self._args, **self._kwargs)\n",
      "  File \"/Users/zihaofoo/opt/anaconda3/lib/python3.8/multiprocessing/pool.py\", line 114, in worker\n",
      "    task = get()\n",
      "  File \"/Users/zihaofoo/opt/anaconda3/lib/python3.8/multiprocessing/queues.py\", line 358, in get\n",
      "    return _ForkingPickler.loads(res)\n",
      "AttributeError: Can't get attribute 'compute_features' on <module '__main__' (built-in)>\n",
      "Process SpawnPoolWorker-64:\n",
      "Traceback (most recent call last):\n",
      "  File \"/Users/zihaofoo/opt/anaconda3/lib/python3.8/multiprocessing/process.py\", line 315, in _bootstrap\n",
      "    self.run()\n",
      "  File \"/Users/zihaofoo/opt/anaconda3/lib/python3.8/multiprocessing/process.py\", line 108, in run\n",
      "    self._target(*self._args, **self._kwargs)\n",
      "  File \"/Users/zihaofoo/opt/anaconda3/lib/python3.8/multiprocessing/pool.py\", line 114, in worker\n",
      "    task = get()\n",
      "  File \"/Users/zihaofoo/opt/anaconda3/lib/python3.8/multiprocessing/queues.py\", line 358, in get\n",
      "    return _ForkingPickler.loads(res)\n",
      "AttributeError: Can't get attribute 'compute_features' on <module '__main__' (built-in)>\n",
      "Process SpawnPoolWorker-65:\n",
      "Traceback (most recent call last):\n",
      "  File \"/Users/zihaofoo/opt/anaconda3/lib/python3.8/multiprocessing/process.py\", line 315, in _bootstrap\n",
      "    self.run()\n",
      "  File \"/Users/zihaofoo/opt/anaconda3/lib/python3.8/multiprocessing/process.py\", line 108, in run\n",
      "    self._target(*self._args, **self._kwargs)\n",
      "  File \"/Users/zihaofoo/opt/anaconda3/lib/python3.8/multiprocessing/pool.py\", line 114, in worker\n",
      "    task = get()\n",
      "  File \"/Users/zihaofoo/opt/anaconda3/lib/python3.8/multiprocessing/queues.py\", line 358, in get\n",
      "    return _ForkingPickler.loads(res)\n",
      "AttributeError: Can't get attribute 'compute_features' on <module '__main__' (built-in)>\n",
      "Process SpawnPoolWorker-66:\n",
      "Traceback (most recent call last):\n",
      "  File \"/Users/zihaofoo/opt/anaconda3/lib/python3.8/multiprocessing/process.py\", line 315, in _bootstrap\n",
      "    self.run()\n",
      "  File \"/Users/zihaofoo/opt/anaconda3/lib/python3.8/multiprocessing/process.py\", line 108, in run\n",
      "    self._target(*self._args, **self._kwargs)\n",
      "  File \"/Users/zihaofoo/opt/anaconda3/lib/python3.8/multiprocessing/pool.py\", line 114, in worker\n",
      "    task = get()\n",
      "  File \"/Users/zihaofoo/opt/anaconda3/lib/python3.8/multiprocessing/queues.py\", line 358, in get\n",
      "    return _ForkingPickler.loads(res)\n",
      "AttributeError: Can't get attribute 'compute_features' on <module '__main__' (built-in)>\n",
      "Process SpawnPoolWorker-68:\n",
      "Traceback (most recent call last):\n",
      "  File \"/Users/zihaofoo/opt/anaconda3/lib/python3.8/multiprocessing/process.py\", line 315, in _bootstrap\n",
      "    self.run()\n",
      "  File \"/Users/zihaofoo/opt/anaconda3/lib/python3.8/multiprocessing/process.py\", line 108, in run\n",
      "    self._target(*self._args, **self._kwargs)\n",
      "  File \"/Users/zihaofoo/opt/anaconda3/lib/python3.8/multiprocessing/pool.py\", line 114, in worker\n",
      "    task = get()\n",
      "  File \"/Users/zihaofoo/opt/anaconda3/lib/python3.8/multiprocessing/queues.py\", line 358, in get\n",
      "    return _ForkingPickler.loads(res)\n",
      "AttributeError: Can't get attribute 'compute_features' on <module '__main__' (built-in)>\n",
      "Process SpawnPoolWorker-69:\n",
      "Traceback (most recent call last):\n",
      "  File \"/Users/zihaofoo/opt/anaconda3/lib/python3.8/multiprocessing/process.py\", line 315, in _bootstrap\n",
      "    self.run()\n",
      "  File \"/Users/zihaofoo/opt/anaconda3/lib/python3.8/multiprocessing/process.py\", line 108, in run\n",
      "    self._target(*self._args, **self._kwargs)\n",
      "  File \"/Users/zihaofoo/opt/anaconda3/lib/python3.8/multiprocessing/pool.py\", line 114, in worker\n",
      "    task = get()\n",
      "  File \"/Users/zihaofoo/opt/anaconda3/lib/python3.8/multiprocessing/queues.py\", line 358, in get\n",
      "    return _ForkingPickler.loads(res)\n",
      "AttributeError: Can't get attribute 'compute_features' on <module '__main__' (built-in)>\n",
      "Process SpawnPoolWorker-70:\n",
      "Traceback (most recent call last):\n",
      "  File \"/Users/zihaofoo/opt/anaconda3/lib/python3.8/multiprocessing/process.py\", line 315, in _bootstrap\n",
      "    self.run()\n",
      "  File \"/Users/zihaofoo/opt/anaconda3/lib/python3.8/multiprocessing/process.py\", line 108, in run\n",
      "    self._target(*self._args, **self._kwargs)\n",
      "  File \"/Users/zihaofoo/opt/anaconda3/lib/python3.8/multiprocessing/pool.py\", line 114, in worker\n",
      "    task = get()\n",
      "  File \"/Users/zihaofoo/opt/anaconda3/lib/python3.8/multiprocessing/queues.py\", line 358, in get\n",
      "    return _ForkingPickler.loads(res)\n",
      "AttributeError: Can't get attribute 'compute_features' on <module '__main__' (built-in)>\n",
      "Process SpawnPoolWorker-67:\n",
      "Traceback (most recent call last):\n",
      "  File \"/Users/zihaofoo/opt/anaconda3/lib/python3.8/multiprocessing/process.py\", line 315, in _bootstrap\n",
      "    self.run()\n",
      "  File \"/Users/zihaofoo/opt/anaconda3/lib/python3.8/multiprocessing/process.py\", line 108, in run\n",
      "    self._target(*self._args, **self._kwargs)\n",
      "  File \"/Users/zihaofoo/opt/anaconda3/lib/python3.8/multiprocessing/pool.py\", line 114, in worker\n",
      "    task = get()\n",
      "  File \"/Users/zihaofoo/opt/anaconda3/lib/python3.8/multiprocessing/queues.py\", line 358, in get\n",
      "    return _ForkingPickler.loads(res)\n",
      "AttributeError: Can't get attribute 'compute_features' on <module '__main__' (built-in)>\n",
      "Process SpawnPoolWorker-71:\n",
      "Traceback (most recent call last):\n",
      "  File \"/Users/zihaofoo/opt/anaconda3/lib/python3.8/multiprocessing/process.py\", line 315, in _bootstrap\n",
      "    self.run()\n",
      "  File \"/Users/zihaofoo/opt/anaconda3/lib/python3.8/multiprocessing/process.py\", line 108, in run\n",
      "    self._target(*self._args, **self._kwargs)\n",
      "  File \"/Users/zihaofoo/opt/anaconda3/lib/python3.8/multiprocessing/pool.py\", line 114, in worker\n",
      "    task = get()\n",
      "  File \"/Users/zihaofoo/opt/anaconda3/lib/python3.8/multiprocessing/queues.py\", line 358, in get\n",
      "    return _ForkingPickler.loads(res)\n",
      "AttributeError: Can't get attribute 'compute_features' on <module '__main__' (built-in)>\n",
      "Process SpawnPoolWorker-72:\n",
      "Traceback (most recent call last):\n",
      "  File \"/Users/zihaofoo/opt/anaconda3/lib/python3.8/multiprocessing/process.py\", line 315, in _bootstrap\n",
      "    self.run()\n",
      "  File \"/Users/zihaofoo/opt/anaconda3/lib/python3.8/multiprocessing/process.py\", line 108, in run\n",
      "    self._target(*self._args, **self._kwargs)\n",
      "  File \"/Users/zihaofoo/opt/anaconda3/lib/python3.8/multiprocessing/pool.py\", line 114, in worker\n",
      "    task = get()\n",
      "  File \"/Users/zihaofoo/opt/anaconda3/lib/python3.8/multiprocessing/queues.py\", line 358, in get\n",
      "    return _ForkingPickler.loads(res)\n",
      "AttributeError: Can't get attribute 'compute_features' on <module '__main__' (built-in)>\n"
     ]
    },
    {
     "ename": "KeyboardInterrupt",
     "evalue": "",
     "output_type": "error",
     "traceback": [
      "\u001b[0;31m---------------------------------------------------------------------------\u001b[0m",
      "\u001b[0;31mKeyboardInterrupt\u001b[0m                         Traceback (most recent call last)",
      "\u001b[1;32m/Users/zihaofoo/Documents/GitHub/CP2_2023_public/CP2_Nic.ipynb Cell 47\u001b[0m line \u001b[0;36m1\n\u001b[1;32m      <a href='vscode-notebook-cell:/Users/zihaofoo/Documents/GitHub/CP2_2023_public/CP2_Nic.ipynb#X65sZmlsZQ%3D%3D?line=8'>9</a>\u001b[0m         \u001b[39mreturn\u001b[39;00m np\u001b[39m.\u001b[39marray(p\u001b[39m.\u001b[39mstarmap(func, [(grid,) \u001b[39mfor\u001b[39;00m grid \u001b[39min\u001b[39;00m grids]))\n\u001b[1;32m     <a href='vscode-notebook-cell:/Users/zihaofoo/Documents/GitHub/CP2_2023_public/CP2_Nic.ipynb#X65sZmlsZQ%3D%3D?line=10'>11</a>\u001b[0m advisor_val \u001b[39m=\u001b[39m \u001b[39m2\u001b[39m\n\u001b[0;32m---> <a href='vscode-notebook-cell:/Users/zihaofoo/Documents/GitHub/CP2_2023_public/CP2_Nic.ipynb#X65sZmlsZQ%3D%3D?line=11'>12</a>\u001b[0m features_subset \u001b[39m=\u001b[39m parallel_compute(grids_subset, advisor_val)\n",
      "\u001b[1;32m/Users/zihaofoo/Documents/GitHub/CP2_2023_public/CP2_Nic.ipynb Cell 47\u001b[0m line \u001b[0;36m9\n\u001b[1;32m      <a href='vscode-notebook-cell:/Users/zihaofoo/Documents/GitHub/CP2_2023_public/CP2_Nic.ipynb#X65sZmlsZQ%3D%3D?line=6'>7</a>\u001b[0m func \u001b[39m=\u001b[39m partial(compute_features, advisor\u001b[39m=\u001b[39madvisor)\n\u001b[1;32m      <a href='vscode-notebook-cell:/Users/zihaofoo/Documents/GitHub/CP2_2023_public/CP2_Nic.ipynb#X65sZmlsZQ%3D%3D?line=7'>8</a>\u001b[0m \u001b[39m# Map the function over grids\u001b[39;00m\n\u001b[0;32m----> <a href='vscode-notebook-cell:/Users/zihaofoo/Documents/GitHub/CP2_2023_public/CP2_Nic.ipynb#X65sZmlsZQ%3D%3D?line=8'>9</a>\u001b[0m \u001b[39mreturn\u001b[39;00m np\u001b[39m.\u001b[39marray(p\u001b[39m.\u001b[39;49mstarmap(func, [(grid,) \u001b[39mfor\u001b[39;49;00m grid \u001b[39min\u001b[39;49;00m grids]))\n",
      "File \u001b[0;32m~/opt/anaconda3/lib/python3.8/multiprocessing/pool.py:372\u001b[0m, in \u001b[0;36mPool.starmap\u001b[0;34m(self, func, iterable, chunksize)\u001b[0m\n\u001b[1;32m    366\u001b[0m \u001b[39mdef\u001b[39;00m \u001b[39mstarmap\u001b[39m(\u001b[39mself\u001b[39m, func, iterable, chunksize\u001b[39m=\u001b[39m\u001b[39mNone\u001b[39;00m):\n\u001b[1;32m    367\u001b[0m \u001b[39m    \u001b[39m\u001b[39m'''\u001b[39;00m\n\u001b[1;32m    368\u001b[0m \u001b[39m    Like `map()` method but the elements of the `iterable` are expected to\u001b[39;00m\n\u001b[1;32m    369\u001b[0m \u001b[39m    be iterables as well and will be unpacked as arguments. Hence\u001b[39;00m\n\u001b[1;32m    370\u001b[0m \u001b[39m    `func` and (a, b) becomes func(a, b).\u001b[39;00m\n\u001b[1;32m    371\u001b[0m \u001b[39m    '''\u001b[39;00m\n\u001b[0;32m--> 372\u001b[0m     \u001b[39mreturn\u001b[39;00m \u001b[39mself\u001b[39;49m\u001b[39m.\u001b[39;49m_map_async(func, iterable, starmapstar, chunksize)\u001b[39m.\u001b[39;49mget()\n",
      "File \u001b[0;32m~/opt/anaconda3/lib/python3.8/multiprocessing/pool.py:765\u001b[0m, in \u001b[0;36mApplyResult.get\u001b[0;34m(self, timeout)\u001b[0m\n\u001b[1;32m    764\u001b[0m \u001b[39mdef\u001b[39;00m \u001b[39mget\u001b[39m(\u001b[39mself\u001b[39m, timeout\u001b[39m=\u001b[39m\u001b[39mNone\u001b[39;00m):\n\u001b[0;32m--> 765\u001b[0m     \u001b[39mself\u001b[39;49m\u001b[39m.\u001b[39;49mwait(timeout)\n\u001b[1;32m    766\u001b[0m     \u001b[39mif\u001b[39;00m \u001b[39mnot\u001b[39;00m \u001b[39mself\u001b[39m\u001b[39m.\u001b[39mready():\n\u001b[1;32m    767\u001b[0m         \u001b[39mraise\u001b[39;00m \u001b[39mTimeoutError\u001b[39;00m\n",
      "File \u001b[0;32m~/opt/anaconda3/lib/python3.8/multiprocessing/pool.py:762\u001b[0m, in \u001b[0;36mApplyResult.wait\u001b[0;34m(self, timeout)\u001b[0m\n\u001b[1;32m    761\u001b[0m \u001b[39mdef\u001b[39;00m \u001b[39mwait\u001b[39m(\u001b[39mself\u001b[39m, timeout\u001b[39m=\u001b[39m\u001b[39mNone\u001b[39;00m):\n\u001b[0;32m--> 762\u001b[0m     \u001b[39mself\u001b[39;49m\u001b[39m.\u001b[39;49m_event\u001b[39m.\u001b[39;49mwait(timeout)\n",
      "File \u001b[0;32m~/opt/anaconda3/lib/python3.8/threading.py:558\u001b[0m, in \u001b[0;36mEvent.wait\u001b[0;34m(self, timeout)\u001b[0m\n\u001b[1;32m    556\u001b[0m signaled \u001b[39m=\u001b[39m \u001b[39mself\u001b[39m\u001b[39m.\u001b[39m_flag\n\u001b[1;32m    557\u001b[0m \u001b[39mif\u001b[39;00m \u001b[39mnot\u001b[39;00m signaled:\n\u001b[0;32m--> 558\u001b[0m     signaled \u001b[39m=\u001b[39m \u001b[39mself\u001b[39;49m\u001b[39m.\u001b[39;49m_cond\u001b[39m.\u001b[39;49mwait(timeout)\n\u001b[1;32m    559\u001b[0m \u001b[39mreturn\u001b[39;00m signaled\n",
      "File \u001b[0;32m~/opt/anaconda3/lib/python3.8/threading.py:302\u001b[0m, in \u001b[0;36mCondition.wait\u001b[0;34m(self, timeout)\u001b[0m\n\u001b[1;32m    300\u001b[0m \u001b[39mtry\u001b[39;00m:    \u001b[39m# restore state no matter what (e.g., KeyboardInterrupt)\u001b[39;00m\n\u001b[1;32m    301\u001b[0m     \u001b[39mif\u001b[39;00m timeout \u001b[39mis\u001b[39;00m \u001b[39mNone\u001b[39;00m:\n\u001b[0;32m--> 302\u001b[0m         waiter\u001b[39m.\u001b[39;49macquire()\n\u001b[1;32m    303\u001b[0m         gotit \u001b[39m=\u001b[39m \u001b[39mTrue\u001b[39;00m\n\u001b[1;32m    304\u001b[0m     \u001b[39melse\u001b[39;00m:\n",
      "\u001b[0;31mKeyboardInterrupt\u001b[0m: "
     ]
    }
   ],
   "source": [
    "from multiprocessing import Pool, cpu_count\n",
    "from functools import partial\n",
    "\n",
    "def parallel_compute(grids, advisor):\n",
    "    with Pool(cpu_count()) as p:\n",
    "        # Partially apply the advisor to the compute_features function\n",
    "        func = partial(compute_features, advisor=advisor)\n",
    "        # Map the function over grids\n",
    "        return np.array(p.starmap(func, [(grid,) for grid in grids]))\n",
    "\n",
    "advisor_val = 2\n",
    "features_subset = parallel_compute(grids_subset, advisor_val)"
   ]
  },
  {
   "cell_type": "code",
   "execution_count": 54,
   "metadata": {
    "scrolled": true
   },
   "outputs": [
    {
     "ename": "ValueError",
     "evalue": "The truth value of an array with more than one element is ambiguous. Use a.any() or a.all()",
     "output_type": "error",
     "traceback": [
      "\u001b[0;31m---------------------------------------------------------------------------\u001b[0m",
      "\u001b[0;31mValueError\u001b[0m                                Traceback (most recent call last)",
      "\u001b[1;32m/Users/zihaofoo/Documents/GitHub/CP2_2023_public/CP2_Nic.ipynb Cell 48\u001b[0m line \u001b[0;36m1\n\u001b[0;32m----> <a href='vscode-notebook-cell:/Users/zihaofoo/Documents/GitHub/CP2_2023_public/CP2_Nic.ipynb#X66sZmlsZQ%3D%3D?line=0'>1</a>\u001b[0m features_subset \u001b[39m=\u001b[39m compute_features(grids_subset, \u001b[39m0\u001b[39;49m)\n",
      "\u001b[1;32m/Users/zihaofoo/Documents/GitHub/CP2_2023_public/CP2_Nic.ipynb Cell 48\u001b[0m line \u001b[0;36m1\n\u001b[1;32m     <a href='vscode-notebook-cell:/Users/zihaofoo/Documents/GitHub/CP2_2023_public/CP2_Nic.ipynb#X66sZmlsZQ%3D%3D?line=15'>16</a>\u001b[0m                 neighbor_val \u001b[39m=\u001b[39m grid[i\u001b[39m+\u001b[39mdx, j\u001b[39m+\u001b[39mdy]\n\u001b[1;32m     <a href='vscode-notebook-cell:/Users/zihaofoo/Documents/GitHub/CP2_2023_public/CP2_Nic.ipynb#X66sZmlsZQ%3D%3D?line=16'>17</a>\u001b[0m                 \u001b[39m# Only update the upper diagonal (including main diagonal)\u001b[39;00m\n\u001b[0;32m---> <a href='vscode-notebook-cell:/Users/zihaofoo/Documents/GitHub/CP2_2023_public/CP2_Nic.ipynb#X66sZmlsZQ%3D%3D?line=17'>18</a>\u001b[0m                 \u001b[39mif\u001b[39;00m current_val \u001b[39m<\u001b[39m\u001b[39m=\u001b[39m neighbor_val:\n\u001b[1;32m     <a href='vscode-notebook-cell:/Users/zihaofoo/Documents/GitHub/CP2_2023_public/CP2_Nic.ipynb#X66sZmlsZQ%3D%3D?line=18'>19</a>\u001b[0m                     inter_adjacency[current_val, neighbor_val] \u001b[39m+\u001b[39m\u001b[39m=\u001b[39m \u001b[39m1\u001b[39m\n\u001b[1;32m     <a href='vscode-notebook-cell:/Users/zihaofoo/Documents/GitHub/CP2_2023_public/CP2_Nic.ipynb#X66sZmlsZQ%3D%3D?line=20'>21</a>\u001b[0m features\u001b[39m.\u001b[39mextend(inter_adjacency[np\u001b[39m.\u001b[39mtriu_indices(\u001b[39m5\u001b[39m, k\u001b[39m=\u001b[39m\u001b[39m0\u001b[39m)])\n",
      "\u001b[0;31mValueError\u001b[0m: The truth value of an array with more than one element is ambiguous. Use a.any() or a.all()"
     ]
    }
   ],
   "source": [
    "# features_subset = compute_features(grids_subset, 0)\n",
    "features_subset[np.isnan(features_subset)] = 0\n"
   ]
  },
  {
   "cell_type": "code",
   "execution_count": 51,
   "metadata": {},
   "outputs": [
    {
     "ename": "NameError",
     "evalue": "name 'features_subset' is not defined",
     "output_type": "error",
     "traceback": [
      "\u001b[0;31m---------------------------------------------------------------------------\u001b[0m",
      "\u001b[0;31mNameError\u001b[0m                                 Traceback (most recent call last)",
      "\u001b[1;32m/Users/zihaofoo/Documents/GitHub/CP2_2023_public/CP2_Nic.ipynb Cell 49\u001b[0m line \u001b[0;36m2\n\u001b[1;32m      <a href='vscode-notebook-cell:/Users/zihaofoo/Documents/GitHub/CP2_2023_public/CP2_Nic.ipynb#Y100sZmlsZQ%3D%3D?line=0'>1</a>\u001b[0m \u001b[39mfrom\u001b[39;00m \u001b[39msklearn\u001b[39;00m\u001b[39m.\u001b[39;00m\u001b[39mmodel_selection\u001b[39;00m \u001b[39mimport\u001b[39;00m train_test_split\n\u001b[0;32m----> <a href='vscode-notebook-cell:/Users/zihaofoo/Documents/GitHub/CP2_2023_public/CP2_Nic.ipynb#Y100sZmlsZQ%3D%3D?line=1'>2</a>\u001b[0m features_train, features_test, ratings_train, ratings_test \u001b[39m=\u001b[39m train_test_split(features_subset, ratings_subset)\n",
      "\u001b[0;31mNameError\u001b[0m: name 'features_subset' is not defined"
     ]
    }
   ],
   "source": [
    "from sklearn.model_selection import train_test_split\n",
    "features_train, features_test, ratings_train, ratings_test = train_test_split(features_subset, ratings_subset)"
   ]
  },
  {
   "cell_type": "code",
   "execution_count": null,
   "metadata": {},
   "outputs": [],
   "source": [
    "#Convert to dataframe and specify dtype of object to ensure categorical handling of data\n",
    "features_train = pd.DataFrame(features_train, columns = range(features_subset.shape[1]), dtype = \"object\")\n",
    "features_test = pd.DataFrame(features_test, columns = range(features_subset.shape[1]), dtype = \"object\")\n",
    "\n",
    "#Convert ratings to dataframe and label the column so we can tell Autogluon what to predict\n",
    "preds_train = pd.DataFrame(ratings_train, columns = [\"ratings\"])\n",
    "\n",
    "#Concatenate train grids and ratings together\n",
    "all_train = pd.concat([features_train, preds_train], axis=1)\n",
    "display(all_train) #Have a look to check things over"
   ]
  },
  {
   "cell_type": "code",
   "execution_count": null,
   "metadata": {
    "colab": {
     "base_uri": "https://localhost:8080/"
    },
    "id": "F7cVkWPsLGav",
    "outputId": "8fc2582f-a818-4f5c-9077-98396b97c783",
    "scrolled": true
   },
   "outputs": [],
   "source": [
    "from autogluon.tabular import TabularPredictor\n",
    "predictor = TabularPredictor(label=\"ratings\").fit(all_train, hyperparameters = {'NN_TORCH':{'weight_decay':1e-4}, 'GBM':{}, 'RF':{}, 'XT':{}, 'KNN':{}})"
   ]
  },
  {
   "cell_type": "code",
   "execution_count": null,
   "metadata": {
    "colab": {
     "base_uri": "https://localhost:8080/",
     "height": 508
    },
    "id": "ow35H4PNMy-X",
    "outputId": "986b1b0b-286d-4812-8b40-942cd598dd3b",
    "scrolled": true
   },
   "outputs": [],
   "source": [
    "from sklearn.metrics import r2_score\n",
    "\n",
    "preds_train = predictor.predict(features_train)\n",
    "preds_test = predictor.predict(features_test)\n",
    "\n",
    "def plot_and_r2(preds_train, preds_test, ratings_train, ratings_test, i):\n",
    "    plt.scatter(ratings_train, preds_train, label='Train Set Preds', s=3, c = \"#F08E18\") #Train set in orange\n",
    "    plt.scatter(ratings_test, preds_test, label='Test Set Preds', s=5, c = \"#DC267F\") #Test set in magenta\n",
    "    plt.plot([0,1], [0,1], label=\"target\", linewidth=3, c=\"k\") # Target line in Black\n",
    "    plt.xlabel(\"Actual Rating\")\n",
    "    plt.ylabel(\"Predicted Rating\")\n",
    "    plt.title(f\"Advisor {i} Predictions\")\n",
    "    plt.legend()\n",
    "    plt.show()\n",
    "    print(f\"Train Set R2 score: {r2_score(ratings_train, preds_train)}\") #Calculate R2 score\n",
    "    print(f\"Test Set R2 score: {r2_score(ratings_test, preds_test)}\")\n",
    "plot_and_r2(preds_train, preds_test, ratings_train, ratings_test, 0)"
   ]
  }
 ],
 "metadata": {
  "accelerator": "GPU",
  "colab": {
   "provenance": []
  },
  "kernelspec": {
   "display_name": "Python 3 (ipykernel)",
   "language": "python",
   "name": "python3"
  },
  "language_info": {
   "codemirror_mode": {
    "name": "ipython",
    "version": 3
   },
   "file_extension": ".py",
   "mimetype": "text/x-python",
   "name": "python",
   "nbconvert_exporter": "python",
   "pygments_lexer": "ipython3",
   "version": "3.11.5"
  }
 },
 "nbformat": 4,
 "nbformat_minor": 4
}
